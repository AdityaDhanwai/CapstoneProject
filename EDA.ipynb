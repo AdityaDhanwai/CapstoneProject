{
  "nbformat": 4,
  "nbformat_minor": 0,
  "metadata": {
    "colab": {
      "provenance": []
    },
    "kernelspec": {
      "name": "python3",
      "display_name": "Python 3"
    },
    "language_info": {
      "name": "python"
    }
  },
  "cells": [
    {
      "cell_type": "code",
      "execution_count": null,
      "metadata": {
        "id": "cDE94BGf0T9H"
      },
      "outputs": [],
      "source": [
        "#Import the packages\n",
        "import numpy as np\n",
        "import pandas as pd\n",
        "import seaborn as sns\n",
        "from matplotlib import pyplot as plt"
      ]
    },
    {
      "cell_type": "code",
      "source": [
        "df =pd.read_csv(\"https://raw.githubusercontent.com/Premalatha-success/Datasets/main/hotel_bookings.csv\")"
      ],
      "metadata": {
        "id": "--KvZcP60VWG"
      },
      "execution_count": null,
      "outputs": []
    },
    {
      "cell_type": "code",
      "source": [
        "df.shape"
      ],
      "metadata": {
        "colab": {
          "base_uri": "https://localhost:8080/"
        },
        "id": "grKJ4QA80VTv",
        "outputId": "4b7143a6-4552-4a6a-c5d3-15d7d9cbe66e"
      },
      "execution_count": null,
      "outputs": [
        {
          "output_type": "execute_result",
          "data": {
            "text/plain": [
              "(119390, 32)"
            ]
          },
          "metadata": {},
          "execution_count": 79
        }
      ]
    },
    {
      "cell_type": "code",
      "source": [
        "df.sample(12)"
      ],
      "metadata": {
        "colab": {
          "base_uri": "https://localhost:8080/",
          "height": 365
        },
        "id": "7EQ3kUZv0VQO",
        "outputId": "ff8cd71c-0b8e-47a2-de2c-2769c496a6de"
      },
      "execution_count": null,
      "outputs": [
        {
          "output_type": "execute_result",
          "data": {
            "text/plain": [
              "    Product  Age  Gender  Education MaritalStatus  Usage  Fitness  Income  \\\n",
              "31    TM195   25    Male         16        Single      3        4   40932   \n",
              "64    TM195   35  Female         16     Partnered      3        3   60261   \n",
              "138   TM498   45    Male         16     Partnered      2        2   54576   \n",
              "77    TM195   46  Female         16     Partnered      3        2   60261   \n",
              "107   TM498   25    Male         14        Single      4        3   48891   \n",
              "118   TM498   32    Male         16        Single      4        3   60261   \n",
              "96    TM498   24  Female         16        Single      3        3   50028   \n",
              "154   TM798   25    Male         18     Partnered      6        4   70966   \n",
              "29    TM195   25  Female         14     Partnered      2        2   53439   \n",
              "50    TM195   29    Male         18     Partnered      3        3   68220   \n",
              "139   TM498   48    Male         16     Partnered      2        3   57987   \n",
              "105   TM498   25    Male         16     Partnered      2        3   50028   \n",
              "\n",
              "     Miles  \n",
              "31     113  \n",
              "64      94  \n",
              "138     42  \n",
              "77      47  \n",
              "107    127  \n",
              "118    127  \n",
              "96     106  \n",
              "154    180  \n",
              "29      47  \n",
              "50      85  \n",
              "139     64  \n",
              "105     53  "
            ],
            "text/html": [
              "\n",
              "  <div id=\"df-728f6b32-7bcf-4632-9654-74dda96b9f51\">\n",
              "    <div class=\"colab-df-container\">\n",
              "      <div>\n",
              "<style scoped>\n",
              "    .dataframe tbody tr th:only-of-type {\n",
              "        vertical-align: middle;\n",
              "    }\n",
              "\n",
              "    .dataframe tbody tr th {\n",
              "        vertical-align: top;\n",
              "    }\n",
              "\n",
              "    .dataframe thead th {\n",
              "        text-align: right;\n",
              "    }\n",
              "</style>\n",
              "<table border=\"1\" class=\"dataframe\">\n",
              "  <thead>\n",
              "    <tr style=\"text-align: right;\">\n",
              "      <th></th>\n",
              "      <th>Product</th>\n",
              "      <th>Age</th>\n",
              "      <th>Gender</th>\n",
              "      <th>Education</th>\n",
              "      <th>MaritalStatus</th>\n",
              "      <th>Usage</th>\n",
              "      <th>Fitness</th>\n",
              "      <th>Income</th>\n",
              "      <th>Miles</th>\n",
              "    </tr>\n",
              "  </thead>\n",
              "  <tbody>\n",
              "    <tr>\n",
              "      <th>31</th>\n",
              "      <td>TM195</td>\n",
              "      <td>25</td>\n",
              "      <td>Male</td>\n",
              "      <td>16</td>\n",
              "      <td>Single</td>\n",
              "      <td>3</td>\n",
              "      <td>4</td>\n",
              "      <td>40932</td>\n",
              "      <td>113</td>\n",
              "    </tr>\n",
              "    <tr>\n",
              "      <th>64</th>\n",
              "      <td>TM195</td>\n",
              "      <td>35</td>\n",
              "      <td>Female</td>\n",
              "      <td>16</td>\n",
              "      <td>Partnered</td>\n",
              "      <td>3</td>\n",
              "      <td>3</td>\n",
              "      <td>60261</td>\n",
              "      <td>94</td>\n",
              "    </tr>\n",
              "    <tr>\n",
              "      <th>138</th>\n",
              "      <td>TM498</td>\n",
              "      <td>45</td>\n",
              "      <td>Male</td>\n",
              "      <td>16</td>\n",
              "      <td>Partnered</td>\n",
              "      <td>2</td>\n",
              "      <td>2</td>\n",
              "      <td>54576</td>\n",
              "      <td>42</td>\n",
              "    </tr>\n",
              "    <tr>\n",
              "      <th>77</th>\n",
              "      <td>TM195</td>\n",
              "      <td>46</td>\n",
              "      <td>Female</td>\n",
              "      <td>16</td>\n",
              "      <td>Partnered</td>\n",
              "      <td>3</td>\n",
              "      <td>2</td>\n",
              "      <td>60261</td>\n",
              "      <td>47</td>\n",
              "    </tr>\n",
              "    <tr>\n",
              "      <th>107</th>\n",
              "      <td>TM498</td>\n",
              "      <td>25</td>\n",
              "      <td>Male</td>\n",
              "      <td>14</td>\n",
              "      <td>Single</td>\n",
              "      <td>4</td>\n",
              "      <td>3</td>\n",
              "      <td>48891</td>\n",
              "      <td>127</td>\n",
              "    </tr>\n",
              "    <tr>\n",
              "      <th>118</th>\n",
              "      <td>TM498</td>\n",
              "      <td>32</td>\n",
              "      <td>Male</td>\n",
              "      <td>16</td>\n",
              "      <td>Single</td>\n",
              "      <td>4</td>\n",
              "      <td>3</td>\n",
              "      <td>60261</td>\n",
              "      <td>127</td>\n",
              "    </tr>\n",
              "    <tr>\n",
              "      <th>96</th>\n",
              "      <td>TM498</td>\n",
              "      <td>24</td>\n",
              "      <td>Female</td>\n",
              "      <td>16</td>\n",
              "      <td>Single</td>\n",
              "      <td>3</td>\n",
              "      <td>3</td>\n",
              "      <td>50028</td>\n",
              "      <td>106</td>\n",
              "    </tr>\n",
              "    <tr>\n",
              "      <th>154</th>\n",
              "      <td>TM798</td>\n",
              "      <td>25</td>\n",
              "      <td>Male</td>\n",
              "      <td>18</td>\n",
              "      <td>Partnered</td>\n",
              "      <td>6</td>\n",
              "      <td>4</td>\n",
              "      <td>70966</td>\n",
              "      <td>180</td>\n",
              "    </tr>\n",
              "    <tr>\n",
              "      <th>29</th>\n",
              "      <td>TM195</td>\n",
              "      <td>25</td>\n",
              "      <td>Female</td>\n",
              "      <td>14</td>\n",
              "      <td>Partnered</td>\n",
              "      <td>2</td>\n",
              "      <td>2</td>\n",
              "      <td>53439</td>\n",
              "      <td>47</td>\n",
              "    </tr>\n",
              "    <tr>\n",
              "      <th>50</th>\n",
              "      <td>TM195</td>\n",
              "      <td>29</td>\n",
              "      <td>Male</td>\n",
              "      <td>18</td>\n",
              "      <td>Partnered</td>\n",
              "      <td>3</td>\n",
              "      <td>3</td>\n",
              "      <td>68220</td>\n",
              "      <td>85</td>\n",
              "    </tr>\n",
              "    <tr>\n",
              "      <th>139</th>\n",
              "      <td>TM498</td>\n",
              "      <td>48</td>\n",
              "      <td>Male</td>\n",
              "      <td>16</td>\n",
              "      <td>Partnered</td>\n",
              "      <td>2</td>\n",
              "      <td>3</td>\n",
              "      <td>57987</td>\n",
              "      <td>64</td>\n",
              "    </tr>\n",
              "    <tr>\n",
              "      <th>105</th>\n",
              "      <td>TM498</td>\n",
              "      <td>25</td>\n",
              "      <td>Male</td>\n",
              "      <td>16</td>\n",
              "      <td>Partnered</td>\n",
              "      <td>2</td>\n",
              "      <td>3</td>\n",
              "      <td>50028</td>\n",
              "      <td>53</td>\n",
              "    </tr>\n",
              "  </tbody>\n",
              "</table>\n",
              "</div>\n",
              "      <button class=\"colab-df-convert\" onclick=\"convertToInteractive('df-728f6b32-7bcf-4632-9654-74dda96b9f51')\"\n",
              "              title=\"Convert this dataframe to an interactive table.\"\n",
              "              style=\"display:none;\">\n",
              "        \n",
              "  <svg xmlns=\"http://www.w3.org/2000/svg\" height=\"24px\"viewBox=\"0 0 24 24\"\n",
              "       width=\"24px\">\n",
              "    <path d=\"M0 0h24v24H0V0z\" fill=\"none\"/>\n",
              "    <path d=\"M18.56 5.44l.94 2.06.94-2.06 2.06-.94-2.06-.94-.94-2.06-.94 2.06-2.06.94zm-11 1L8.5 8.5l.94-2.06 2.06-.94-2.06-.94L8.5 2.5l-.94 2.06-2.06.94zm10 10l.94 2.06.94-2.06 2.06-.94-2.06-.94-.94-2.06-.94 2.06-2.06.94z\"/><path d=\"M17.41 7.96l-1.37-1.37c-.4-.4-.92-.59-1.43-.59-.52 0-1.04.2-1.43.59L10.3 9.45l-7.72 7.72c-.78.78-.78 2.05 0 2.83L4 21.41c.39.39.9.59 1.41.59.51 0 1.02-.2 1.41-.59l7.78-7.78 2.81-2.81c.8-.78.8-2.07 0-2.86zM5.41 20L4 18.59l7.72-7.72 1.47 1.35L5.41 20z\"/>\n",
              "  </svg>\n",
              "      </button>\n",
              "      \n",
              "  <style>\n",
              "    .colab-df-container {\n",
              "      display:flex;\n",
              "      flex-wrap:wrap;\n",
              "      gap: 12px;\n",
              "    }\n",
              "\n",
              "    .colab-df-convert {\n",
              "      background-color: #E8F0FE;\n",
              "      border: none;\n",
              "      border-radius: 50%;\n",
              "      cursor: pointer;\n",
              "      display: none;\n",
              "      fill: #1967D2;\n",
              "      height: 32px;\n",
              "      padding: 0 0 0 0;\n",
              "      width: 32px;\n",
              "    }\n",
              "\n",
              "    .colab-df-convert:hover {\n",
              "      background-color: #E2EBFA;\n",
              "      box-shadow: 0px 1px 2px rgba(60, 64, 67, 0.3), 0px 1px 3px 1px rgba(60, 64, 67, 0.15);\n",
              "      fill: #174EA6;\n",
              "    }\n",
              "\n",
              "    [theme=dark] .colab-df-convert {\n",
              "      background-color: #3B4455;\n",
              "      fill: #D2E3FC;\n",
              "    }\n",
              "\n",
              "    [theme=dark] .colab-df-convert:hover {\n",
              "      background-color: #434B5C;\n",
              "      box-shadow: 0px 1px 3px 1px rgba(0, 0, 0, 0.15);\n",
              "      filter: drop-shadow(0px 1px 2px rgba(0, 0, 0, 0.3));\n",
              "      fill: #FFFFFF;\n",
              "    }\n",
              "  </style>\n",
              "\n",
              "      <script>\n",
              "        const buttonEl =\n",
              "          document.querySelector('#df-728f6b32-7bcf-4632-9654-74dda96b9f51 button.colab-df-convert');\n",
              "        buttonEl.style.display =\n",
              "          google.colab.kernel.accessAllowed ? 'block' : 'none';\n",
              "\n",
              "        async function convertToInteractive(key) {\n",
              "          const element = document.querySelector('#df-728f6b32-7bcf-4632-9654-74dda96b9f51');\n",
              "          const dataTable =\n",
              "            await google.colab.kernel.invokeFunction('convertToInteractive',\n",
              "                                                     [key], {});\n",
              "          if (!dataTable) return;\n",
              "\n",
              "          const docLinkHtml = 'Like what you see? Visit the ' +\n",
              "            '<a target=\"_blank\" href=https://colab.research.google.com/notebooks/data_table.ipynb>data table notebook</a>'\n",
              "            + ' to learn more about interactive tables.';\n",
              "          element.innerHTML = '';\n",
              "          dataTable['output_type'] = 'display_data';\n",
              "          await google.colab.output.renderOutput(dataTable, element);\n",
              "          const docLink = document.createElement('div');\n",
              "          docLink.innerHTML = docLinkHtml;\n",
              "          element.appendChild(docLink);\n",
              "        }\n",
              "      </script>\n",
              "    </div>\n",
              "  </div>\n",
              "  "
            ]
          },
          "metadata": {},
          "execution_count": 5
        }
      ]
    },
    {
      "cell_type": "code",
      "source": [
        "df.info()"
      ],
      "metadata": {
        "colab": {
          "base_uri": "https://localhost:8080/"
        },
        "id": "iCxciwd90VNL",
        "outputId": "cd494267-442f-49f3-b490-81de69544f90"
      },
      "execution_count": null,
      "outputs": [
        {
          "output_type": "stream",
          "name": "stdout",
          "text": [
            "<class 'pandas.core.frame.DataFrame'>\n",
            "RangeIndex: 119390 entries, 0 to 119389\n",
            "Data columns (total 32 columns):\n",
            " #   Column                          Non-Null Count   Dtype  \n",
            "---  ------                          --------------   -----  \n",
            " 0   hotel                           119390 non-null  object \n",
            " 1   is_canceled                     119390 non-null  int64  \n",
            " 2   lead_time                       119390 non-null  int64  \n",
            " 3   arrival_date_year               119390 non-null  int64  \n",
            " 4   arrival_date_month              119390 non-null  object \n",
            " 5   arrival_date_week_number        119390 non-null  int64  \n",
            " 6   arrival_date_day_of_month       119390 non-null  int64  \n",
            " 7   stays_in_weekend_nights         119390 non-null  int64  \n",
            " 8   stays_in_week_nights            119390 non-null  int64  \n",
            " 9   adults                          119390 non-null  int64  \n",
            " 10  children                        119386 non-null  float64\n",
            " 11  babies                          119390 non-null  int64  \n",
            " 12  meal                            119390 non-null  object \n",
            " 13  country                         118902 non-null  object \n",
            " 14  market_segment                  119390 non-null  object \n",
            " 15  distribution_channel            119390 non-null  object \n",
            " 16  is_repeated_guest               119390 non-null  int64  \n",
            " 17  previous_cancellations          119390 non-null  int64  \n",
            " 18  previous_bookings_not_canceled  119390 non-null  int64  \n",
            " 19  reserved_room_type              119390 non-null  object \n",
            " 20  assigned_room_type              119390 non-null  object \n",
            " 21  booking_changes                 119390 non-null  int64  \n",
            " 22  deposit_type                    119390 non-null  object \n",
            " 23  agent                           103050 non-null  float64\n",
            " 24  company                         6797 non-null    float64\n",
            " 25  days_in_waiting_list            119390 non-null  int64  \n",
            " 26  customer_type                   119390 non-null  object \n",
            " 27  adr                             119390 non-null  float64\n",
            " 28  required_car_parking_spaces     119390 non-null  int64  \n",
            " 29  total_of_special_requests       119390 non-null  int64  \n",
            " 30  reservation_status              119390 non-null  object \n",
            " 31  reservation_status_date         119390 non-null  object \n",
            "dtypes: float64(4), int64(16), object(12)\n",
            "memory usage: 29.1+ MB\n"
          ]
        }
      ]
    },
    {
      "cell_type": "code",
      "source": [
        "df.isnull().sum()"
      ],
      "metadata": {
        "colab": {
          "base_uri": "https://localhost:8080/"
        },
        "id": "9WxhrXKu0VJ-",
        "outputId": "aff247de-c9bb-48b2-a06e-d2057262b21b"
      },
      "execution_count": null,
      "outputs": [
        {
          "output_type": "execute_result",
          "data": {
            "text/plain": [
              "hotel                                  0\n",
              "is_canceled                            0\n",
              "lead_time                              0\n",
              "arrival_date_year                      0\n",
              "arrival_date_month                     0\n",
              "arrival_date_week_number               0\n",
              "arrival_date_day_of_month              0\n",
              "stays_in_weekend_nights                0\n",
              "stays_in_week_nights                   0\n",
              "adults                                 0\n",
              "children                               4\n",
              "babies                                 0\n",
              "meal                                   0\n",
              "country                              488\n",
              "market_segment                         0\n",
              "distribution_channel                   0\n",
              "is_repeated_guest                      0\n",
              "previous_cancellations                 0\n",
              "previous_bookings_not_canceled         0\n",
              "reserved_room_type                     0\n",
              "assigned_room_type                     0\n",
              "booking_changes                        0\n",
              "deposit_type                           0\n",
              "agent                              16340\n",
              "company                           112593\n",
              "days_in_waiting_list                   0\n",
              "customer_type                          0\n",
              "adr                                    0\n",
              "required_car_parking_spaces            0\n",
              "total_of_special_requests              0\n",
              "reservation_status                     0\n",
              "reservation_status_date                0\n",
              "dtype: int64"
            ]
          },
          "metadata": {},
          "execution_count": 10
        }
      ]
    },
    {
      "cell_type": "code",
      "source": [
        "# 488 Missing values in country :object (Mode)  \n",
        "# 4 missing values in children:float (Mean/Median)\n",
        "#16340 missing values in agent: float  (Mean/Median)\n",
        "# 112593 Missing values in company: float (Drop it) and dropping the column bcz of morre missing values"
      ],
      "metadata": {
        "id": "xz2633Lc0VG_"
      },
      "execution_count": null,
      "outputs": []
    },
    {
      "cell_type": "code",
      "source": [
        "df=df.drop([\"company\"], axis=1)"
      ],
      "metadata": {
        "id": "WRFJ8g-h0VEC"
      },
      "execution_count": null,
      "outputs": []
    },
    {
      "cell_type": "code",
      "source": [
        "df.shape"
      ],
      "metadata": {
        "colab": {
          "base_uri": "https://localhost:8080/"
        },
        "id": "Aq-cNK9q0VA0",
        "outputId": "6d74c951-5414-4de9-e723-d07a789508ce"
      },
      "execution_count": null,
      "outputs": [
        {
          "output_type": "execute_result",
          "data": {
            "text/plain": [
              "(119390, 32)"
            ]
          },
          "metadata": {},
          "execution_count": 18
        }
      ]
    },
    {
      "cell_type": "code",
      "source": [
        "median1=df[\"children\"].median()\n",
        "median1"
      ],
      "metadata": {
        "colab": {
          "base_uri": "https://localhost:8080/"
        },
        "id": "alPfG3DW0U7K",
        "outputId": "d15b2fe5-c02a-4aa5-b5f4-43e0e66181fe"
      },
      "execution_count": null,
      "outputs": [
        {
          "output_type": "execute_result",
          "data": {
            "text/plain": [
              "0.0"
            ]
          },
          "metadata": {},
          "execution_count": 20
        }
      ]
    },
    {
      "cell_type": "code",
      "source": [
        "df[\"children\"].replace(np.nan,median1,inplace=True)"
      ],
      "metadata": {
        "id": "GO78aX1T0U4Y"
      },
      "execution_count": null,
      "outputs": []
    },
    {
      "cell_type": "code",
      "source": [
        "df.isnull().sum()"
      ],
      "metadata": {
        "colab": {
          "base_uri": "https://localhost:8080/"
        },
        "id": "dOfsHXRH0U1a",
        "outputId": "3454c9f2-58a0-47cc-dd0f-c7915204a542"
      },
      "execution_count": null,
      "outputs": [
        {
          "output_type": "execute_result",
          "data": {
            "text/plain": [
              "hotel                                  0\n",
              "is_canceled                            0\n",
              "lead_time                              0\n",
              "arrival_date_year                      0\n",
              "arrival_date_month                     0\n",
              "arrival_date_week_number               0\n",
              "arrival_date_day_of_month              0\n",
              "stays_in_weekend_nights                0\n",
              "stays_in_week_nights                   0\n",
              "adults                                 0\n",
              "children                               4\n",
              "babies                                 0\n",
              "meal                                   0\n",
              "country                              488\n",
              "market_segment                         0\n",
              "distribution_channel                   0\n",
              "is_repeated_guest                      0\n",
              "previous_cancellations                 0\n",
              "previous_bookings_not_canceled         0\n",
              "reserved_room_type                     0\n",
              "assigned_room_type                     0\n",
              "booking_changes                        0\n",
              "deposit_type                           0\n",
              "agent                              16340\n",
              "company                           112593\n",
              "days_in_waiting_list                   0\n",
              "customer_type                          0\n",
              "adr                                    0\n",
              "required_car_parking_spaces            0\n",
              "total_of_special_requests              0\n",
              "reservation_status                     0\n",
              "reservation_status_date                0\n",
              "dtype: int64"
            ]
          },
          "metadata": {},
          "execution_count": 3
        }
      ]
    },
    {
      "cell_type": "code",
      "source": [
        "df.shape"
      ],
      "metadata": {
        "colab": {
          "base_uri": "https://localhost:8080/"
        },
        "id": "lc14N2RH0UyU",
        "outputId": "cfae3cdc-7cd4-4ee5-a17f-f1348d2cccde"
      },
      "execution_count": null,
      "outputs": [
        {
          "output_type": "execute_result",
          "data": {
            "text/plain": [
              "(119390, 32)"
            ]
          },
          "metadata": {},
          "execution_count": 24
        }
      ]
    },
    {
      "cell_type": "code",
      "source": [
        "median2=df[\"agent\"].median()\n",
        "median2"
      ],
      "metadata": {
        "colab": {
          "base_uri": "https://localhost:8080/"
        },
        "id": "lZPxNR-C0Uk7",
        "outputId": "d3c879d9-213e-4040-db2a-1f9d9decfc4c"
      },
      "execution_count": null,
      "outputs": [
        {
          "output_type": "execute_result",
          "data": {
            "text/plain": [
              "14.0"
            ]
          },
          "metadata": {},
          "execution_count": 25
        }
      ]
    },
    {
      "cell_type": "code",
      "source": [
        "df[\"agent\"].replace(np.nan,median2,inplace=True)"
      ],
      "metadata": {
        "id": "uq0aevWE6eVK"
      },
      "execution_count": null,
      "outputs": []
    },
    {
      "cell_type": "code",
      "source": [
        "mode=df[\"country\"].mode().values[0]\n",
        "mode"
      ],
      "metadata": {
        "colab": {
          "base_uri": "https://localhost:8080/",
          "height": 35
        },
        "id": "dI728ACu6eST",
        "outputId": "eef0572f-b162-412c-afb7-832c216367b3"
      },
      "execution_count": null,
      "outputs": [
        {
          "output_type": "execute_result",
          "data": {
            "text/plain": [
              "'PRT'"
            ],
            "application/vnd.google.colaboratory.intrinsic+json": {
              "type": "string"
            }
          },
          "metadata": {},
          "execution_count": 28
        }
      ]
    },
    {
      "cell_type": "code",
      "source": [
        "df[\"country\"].replace(np.nan,mode,inplace=True)"
      ],
      "metadata": {
        "id": "O6qYM4v66ePb"
      },
      "execution_count": null,
      "outputs": []
    },
    {
      "cell_type": "code",
      "source": [
        "df.isnull().sum()"
      ],
      "metadata": {
        "colab": {
          "base_uri": "https://localhost:8080/"
        },
        "id": "B-uMfxYS6vMp",
        "outputId": "ab267307-6595-46ec-ee8d-119f54d85b42"
      },
      "execution_count": null,
      "outputs": [
        {
          "output_type": "execute_result",
          "data": {
            "text/plain": [
              "hotel                                  0\n",
              "is_canceled                            0\n",
              "lead_time                              0\n",
              "arrival_date_year                      0\n",
              "arrival_date_month                     0\n",
              "arrival_date_week_number               0\n",
              "arrival_date_day_of_month              0\n",
              "stays_in_weekend_nights                0\n",
              "stays_in_week_nights                   0\n",
              "adults                                 0\n",
              "children                               0\n",
              "babies                                 0\n",
              "meal                                   0\n",
              "country                                0\n",
              "market_segment                         0\n",
              "distribution_channel                   0\n",
              "is_repeated_guest                      0\n",
              "previous_cancellations                 0\n",
              "previous_bookings_not_canceled         0\n",
              "reserved_room_type                     0\n",
              "assigned_room_type                     0\n",
              "booking_changes                        0\n",
              "deposit_type                           0\n",
              "agent                                  0\n",
              "company                           112593\n",
              "days_in_waiting_list                   0\n",
              "customer_type                          0\n",
              "adr                                    0\n",
              "required_car_parking_spaces            0\n",
              "total_of_special_requests              0\n",
              "reservation_status                     0\n",
              "reservation_status_date                0\n",
              "dtype: int64"
            ]
          },
          "metadata": {},
          "execution_count": 32
        }
      ]
    },
    {
      "cell_type": "code",
      "source": [
        "#check for duplicates\n",
        "duplicate=df.duplicated()\n",
        "print(duplicate.sum())"
      ],
      "metadata": {
        "colab": {
          "base_uri": "https://localhost:8080/"
        },
        "id": "RK2IOBqP6vJt",
        "outputId": "305b7016-19d5-41d2-86a8-9c9011ec2cae"
      },
      "execution_count": null,
      "outputs": [
        {
          "output_type": "stream",
          "name": "stdout",
          "text": [
            "31994\n"
          ]
        }
      ]
    },
    {
      "cell_type": "code",
      "source": [
        "df.drop_duplicates(inplace=True)"
      ],
      "metadata": {
        "id": "CQiPQEsH6vEv"
      },
      "execution_count": null,
      "outputs": []
    },
    {
      "cell_type": "code",
      "source": [
        "df.duplicated().sum()"
      ],
      "metadata": {
        "id": "elk9Q3VM8jy1"
      },
      "execution_count": null,
      "outputs": []
    },
    {
      "cell_type": "code",
      "source": [
        "df.shape"
      ],
      "metadata": {
        "colab": {
          "base_uri": "https://localhost:8080/"
        },
        "id": "RNvXBgnz8uSb",
        "outputId": "c9de80d8-f194-43d4-ddbe-55611e21ac47"
      },
      "execution_count": null,
      "outputs": [
        {
          "output_type": "execute_result",
          "data": {
            "text/plain": [
              "(87370, 31)"
            ]
          },
          "metadata": {},
          "execution_count": 41
        }
      ]
    },
    {
      "cell_type": "code",
      "source": [
        "df.info()"
      ],
      "metadata": {
        "id": "anu8lN_j-Yea",
        "outputId": "bafa2bf7-9258-49d0-8cbe-b19bb27a02ba",
        "colab": {
          "base_uri": "https://localhost:8080/"
        }
      },
      "execution_count": null,
      "outputs": [
        {
          "output_type": "stream",
          "name": "stdout",
          "text": [
            "<class 'pandas.core.frame.DataFrame'>\n",
            "RangeIndex: 119390 entries, 0 to 119389\n",
            "Columns: 1199 entries, hotel to country_ZWE\n",
            "dtypes: float64(4), int64(16), object(12), uint8(1167)\n",
            "memory usage: 162.0+ MB\n"
          ]
        }
      ]
    },
    {
      "cell_type": "code",
      "source": [
        "df.boxplot(column=[\"lead_time\"])"
      ],
      "metadata": {
        "colab": {
          "base_uri": "https://localhost:8080/",
          "height": 283
        },
        "id": "VnXWl1Yi8uPt",
        "outputId": "36e0c160-f0f5-46d1-cdf6-fa970dece24b"
      },
      "execution_count": null,
      "outputs": [
        {
          "output_type": "execute_result",
          "data": {
            "text/plain": [
              "<matplotlib.axes._subplots.AxesSubplot at 0x7fb47f1e9a90>"
            ]
          },
          "metadata": {},
          "execution_count": 44
        },
        {
          "output_type": "display_data",
          "data": {
            "text/plain": [
              "<Figure size 432x288 with 1 Axes>"
            ],
            "image/png": "[encoded data removed]"
          },
          "metadata": {
            "needs_background": "light"
          }
        }
      ]
    },
    {
      "cell_type": "code",
      "source": [
        "def remove_outlier(col):\n",
        "     sorted(col)\n",
        "     Q1,Q3=col.quantile([0.25,0.75])\n",
        "     IQR=Q3-Q1\n",
        "     lower_range=Q1-1.5*IQR\n",
        "     upper_range=Q3+1.5*IQR\n",
        "     return lower_range,upper_range"
      ],
      "metadata": {
        "id": "jSNRHP0K8uMh"
      },
      "execution_count": null,
      "outputs": []
    },
    {
      "cell_type": "code",
      "source": [
        "low_leadtime,high_leadtime=remove_outlier(df[\"lead_time\"])\n",
        "df[\"lead_time\"]=np.where(df[\"lead_time\"]>high_leadtime,high_leadtime,df[\"lead_time\"])\n",
        "df[\"lead_time\"]=np.where(df[\"lead_time\"]<low_leadtime,low_leadtime,df[\"lead_time\"])"
      ],
      "metadata": {
        "id": "LTCIXpNy_tzI"
      },
      "execution_count": null,
      "outputs": []
    },
    {
      "cell_type": "code",
      "source": [
        "df.boxplot(column=[\"lead_time\"])"
      ],
      "metadata": {
        "colab": {
          "base_uri": "https://localhost:8080/",
          "height": 283
        },
        "id": "ObAWAKRS_twB",
        "outputId": "4f236def-db5d-493a-f4e7-23402fe95f41"
      },
      "execution_count": null,
      "outputs": [
        {
          "output_type": "execute_result",
          "data": {
            "text/plain": [
              "<matplotlib.axes._subplots.AxesSubplot at 0x7fb47f1516a0>"
            ]
          },
          "metadata": {},
          "execution_count": 50
        },
        {
          "output_type": "display_data",
          "data": {
            "text/plain": [
              "<Figure size 432x288 with 1 Axes>"
            ],
            "image/png": "[encoded data removed]"
          },
          "metadata": {
            "needs_background": "light"
          }
        }
      ]
    },
    {
      "cell_type": "code",
      "source": [
        "df.boxplot(column=[\"booking_changes\"])"
      ],
      "metadata": {
        "colab": {
          "base_uri": "https://localhost:8080/",
          "height": 283
        },
        "id": "RuEzIGbW_ttF",
        "outputId": "2b0d1b82-3339-4694-dd22-6aa5a6332deb"
      },
      "execution_count": null,
      "outputs": [
        {
          "output_type": "execute_result",
          "data": {
            "text/plain": [
              "<matplotlib.axes._subplots.AxesSubplot at 0x7fb47ebe8940>"
            ]
          },
          "metadata": {},
          "execution_count": 55
        },
        {
          "output_type": "display_data",
          "data": {
            "text/plain": [
              "<Figure size 432x288 with 1 Axes>"
            ],
            "image/png": "[encoded data removed]"
          },
          "metadata": {
            "needs_background": "light"
          }
        }
      ]
    },
    {
      "cell_type": "code",
      "source": [
        "dummies=pd.get_dummies(df[['hotel','arrival_date_month','reservation_status_date','customer_type','deposit_type','reserved_room_type','reservation_status','assigned_room_type','market_segment','distribution_channel','meal','country']])"
      ],
      "metadata": {
        "id": "rOjmlKfy_tqP"
      },
      "execution_count": null,
      "outputs": []
    },
    {
      "cell_type": "code",
      "source": [
        "dummies.head()"
      ],
      "metadata": {
        "colab": {
          "base_uri": "https://localhost:8080/",
          "height": 317
        },
        "id": "Q8r4wkUtFgvy",
        "outputId": "93932bd5-8709-453b-9736-4995635a52a0"
      },
      "execution_count": null,
      "outputs": [
        {
          "output_type": "execute_result",
          "data": {
            "text/plain": [
              "   hotel_City Hotel  hotel_Resort Hotel  arrival_date_month_April  \\\n",
              "0                 0                   1                         0   \n",
              "1                 0                   1                         0   \n",
              "2                 0                   1                         0   \n",
              "3                 0                   1                         0   \n",
              "4                 0                   1                         0   \n",
              "\n",
              "   arrival_date_month_August  arrival_date_month_December  \\\n",
              "0                          0                            0   \n",
              "1                          0                            0   \n",
              "2                          0                            0   \n",
              "3                          0                            0   \n",
              "4                          0                            0   \n",
              "\n",
              "   arrival_date_month_February  arrival_date_month_January  \\\n",
              "0                            0                           0   \n",
              "1                            0                           0   \n",
              "2                            0                           0   \n",
              "3                            0                           0   \n",
              "4                            0                           0   \n",
              "\n",
              "   arrival_date_month_July  arrival_date_month_June  arrival_date_month_March  \\\n",
              "0                        1                        0                         0   \n",
              "1                        1                        0                         0   \n",
              "2                        1                        0                         0   \n",
              "3                        1                        0                         0   \n",
              "4                        1                        0                         0   \n",
              "\n",
              "   ...  country_UMI  country_URY  country_USA  country_UZB  country_VEN  \\\n",
              "0  ...            0            0            0            0            0   \n",
              "1  ...            0            0            0            0            0   \n",
              "2  ...            0            0            0            0            0   \n",
              "3  ...            0            0            0            0            0   \n",
              "4  ...            0            0            0            0            0   \n",
              "\n",
              "   country_VGB  country_VNM  country_ZAF  country_ZMB  country_ZWE  \n",
              "0            0            0            0            0            0  \n",
              "1            0            0            0            0            0  \n",
              "2            0            0            0            0            0  \n",
              "3            0            0            0            0            0  \n",
              "4            0            0            0            0            0  \n",
              "\n",
              "[5 rows x 1167 columns]"
            ],
            "text/html": [
              "\n",
              "  <div id=\"df-99779e51-d84d-49f1-a519-c7b22f30dcfd\">\n",
              "    <div class=\"colab-df-container\">\n",
              "      <div>\n",
              "<style scoped>\n",
              "    .dataframe tbody tr th:only-of-type {\n",
              "        vertical-align: middle;\n",
              "    }\n",
              "\n",
              "    .dataframe tbody tr th {\n",
              "        vertical-align: top;\n",
              "    }\n",
              "\n",
              "    .dataframe thead th {\n",
              "        text-align: right;\n",
              "    }\n",
              "</style>\n",
              "<table border=\"1\" class=\"dataframe\">\n",
              "  <thead>\n",
              "    <tr style=\"text-align: right;\">\n",
              "      <th></th>\n",
              "      <th>hotel_City Hotel</th>\n",
              "      <th>hotel_Resort Hotel</th>\n",
              "      <th>arrival_date_month_April</th>\n",
              "      <th>arrival_date_month_August</th>\n",
              "      <th>arrival_date_month_December</th>\n",
              "      <th>arrival_date_month_February</th>\n",
              "      <th>arrival_date_month_January</th>\n",
              "      <th>arrival_date_month_July</th>\n",
              "      <th>arrival_date_month_June</th>\n",
              "      <th>arrival_date_month_March</th>\n",
              "      <th>...</th>\n",
              "      <th>country_UMI</th>\n",
              "      <th>country_URY</th>\n",
              "      <th>country_USA</th>\n",
              "      <th>country_UZB</th>\n",
              "      <th>country_VEN</th>\n",
              "      <th>country_VGB</th>\n",
              "      <th>country_VNM</th>\n",
              "      <th>country_ZAF</th>\n",
              "      <th>country_ZMB</th>\n",
              "      <th>country_ZWE</th>\n",
              "    </tr>\n",
              "  </thead>\n",
              "  <tbody>\n",
              "    <tr>\n",
              "      <th>0</th>\n",
              "      <td>0</td>\n",
              "      <td>1</td>\n",
              "      <td>0</td>\n",
              "      <td>0</td>\n",
              "      <td>0</td>\n",
              "      <td>0</td>\n",
              "      <td>0</td>\n",
              "      <td>1</td>\n",
              "      <td>0</td>\n",
              "      <td>0</td>\n",
              "      <td>...</td>\n",
              "      <td>0</td>\n",
              "      <td>0</td>\n",
              "      <td>0</td>\n",
              "      <td>0</td>\n",
              "      <td>0</td>\n",
              "      <td>0</td>\n",
              "      <td>0</td>\n",
              "      <td>0</td>\n",
              "      <td>0</td>\n",
              "      <td>0</td>\n",
              "    </tr>\n",
              "    <tr>\n",
              "      <th>1</th>\n",
              "      <td>0</td>\n",
              "      <td>1</td>\n",
              "      <td>0</td>\n",
              "      <td>0</td>\n",
              "      <td>0</td>\n",
              "      <td>0</td>\n",
              "      <td>0</td>\n",
              "      <td>1</td>\n",
              "      <td>0</td>\n",
              "      <td>0</td>\n",
              "      <td>...</td>\n",
              "      <td>0</td>\n",
              "      <td>0</td>\n",
              "      <td>0</td>\n",
              "      <td>0</td>\n",
              "      <td>0</td>\n",
              "      <td>0</td>\n",
              "      <td>0</td>\n",
              "      <td>0</td>\n",
              "      <td>0</td>\n",
              "      <td>0</td>\n",
              "    </tr>\n",
              "    <tr>\n",
              "      <th>2</th>\n",
              "      <td>0</td>\n",
              "      <td>1</td>\n",
              "      <td>0</td>\n",
              "      <td>0</td>\n",
              "      <td>0</td>\n",
              "      <td>0</td>\n",
              "      <td>0</td>\n",
              "      <td>1</td>\n",
              "      <td>0</td>\n",
              "      <td>0</td>\n",
              "      <td>...</td>\n",
              "      <td>0</td>\n",
              "      <td>0</td>\n",
              "      <td>0</td>\n",
              "      <td>0</td>\n",
              "      <td>0</td>\n",
              "      <td>0</td>\n",
              "      <td>0</td>\n",
              "      <td>0</td>\n",
              "      <td>0</td>\n",
              "      <td>0</td>\n",
              "    </tr>\n",
              "    <tr>\n",
              "      <th>3</th>\n",
              "      <td>0</td>\n",
              "      <td>1</td>\n",
              "      <td>0</td>\n",
              "      <td>0</td>\n",
              "      <td>0</td>\n",
              "      <td>0</td>\n",
              "      <td>0</td>\n",
              "      <td>1</td>\n",
              "      <td>0</td>\n",
              "      <td>0</td>\n",
              "      <td>...</td>\n",
              "      <td>0</td>\n",
              "      <td>0</td>\n",
              "      <td>0</td>\n",
              "      <td>0</td>\n",
              "      <td>0</td>\n",
              "      <td>0</td>\n",
              "      <td>0</td>\n",
              "      <td>0</td>\n",
              "      <td>0</td>\n",
              "      <td>0</td>\n",
              "    </tr>\n",
              "    <tr>\n",
              "      <th>4</th>\n",
              "      <td>0</td>\n",
              "      <td>1</td>\n",
              "      <td>0</td>\n",
              "      <td>0</td>\n",
              "      <td>0</td>\n",
              "      <td>0</td>\n",
              "      <td>0</td>\n",
              "      <td>1</td>\n",
              "      <td>0</td>\n",
              "      <td>0</td>\n",
              "      <td>...</td>\n",
              "      <td>0</td>\n",
              "      <td>0</td>\n",
              "      <td>0</td>\n",
              "      <td>0</td>\n",
              "      <td>0</td>\n",
              "      <td>0</td>\n",
              "      <td>0</td>\n",
              "      <td>0</td>\n",
              "      <td>0</td>\n",
              "      <td>0</td>\n",
              "    </tr>\n",
              "  </tbody>\n",
              "</table>\n",
              "<p>5 rows × 1167 columns</p>\n",
              "</div>\n",
              "      <button class=\"colab-df-convert\" onclick=\"convertToInteractive('df-99779e51-d84d-49f1-a519-c7b22f30dcfd')\"\n",
              "              title=\"Convert this dataframe to an interactive table.\"\n",
              "              style=\"display:none;\">\n",
              "        \n",
              "  <svg xmlns=\"http://www.w3.org/2000/svg\" height=\"24px\"viewBox=\"0 0 24 24\"\n",
              "       width=\"24px\">\n",
              "    <path d=\"M0 0h24v24H0V0z\" fill=\"none\"/>\n",
              "    <path d=\"M18.56 5.44l.94 2.06.94-2.06 2.06-.94-2.06-.94-.94-2.06-.94 2.06-2.06.94zm-11 1L8.5 8.5l.94-2.06 2.06-.94-2.06-.94L8.5 2.5l-.94 2.06-2.06.94zm10 10l.94 2.06.94-2.06 2.06-.94-2.06-.94-.94-2.06-.94 2.06-2.06.94z\"/><path d=\"M17.41 7.96l-1.37-1.37c-.4-.4-.92-.59-1.43-.59-.52 0-1.04.2-1.43.59L10.3 9.45l-7.72 7.72c-.78.78-.78 2.05 0 2.83L4 21.41c.39.39.9.59 1.41.59.51 0 1.02-.2 1.41-.59l7.78-7.78 2.81-2.81c.8-.78.8-2.07 0-2.86zM5.41 20L4 18.59l7.72-7.72 1.47 1.35L5.41 20z\"/>\n",
              "  </svg>\n",
              "      </button>\n",
              "      \n",
              "  <style>\n",
              "    .colab-df-container {\n",
              "      display:flex;\n",
              "      flex-wrap:wrap;\n",
              "      gap: 12px;\n",
              "    }\n",
              "\n",
              "    .colab-df-convert {\n",
              "      background-color: #E8F0FE;\n",
              "      border: none;\n",
              "      border-radius: 50%;\n",
              "      cursor: pointer;\n",
              "      display: none;\n",
              "      fill: #1967D2;\n",
              "      height: 32px;\n",
              "      padding: 0 0 0 0;\n",
              "      width: 32px;\n",
              "    }\n",
              "\n",
              "    .colab-df-convert:hover {\n",
              "      background-color: #E2EBFA;\n",
              "      box-shadow: 0px 1px 2px rgba(60, 64, 67, 0.3), 0px 1px 3px 1px rgba(60, 64, 67, 0.15);\n",
              "      fill: #174EA6;\n",
              "    }\n",
              "\n",
              "    [theme=dark] .colab-df-convert {\n",
              "      background-color: #3B4455;\n",
              "      fill: #D2E3FC;\n",
              "    }\n",
              "\n",
              "    [theme=dark] .colab-df-convert:hover {\n",
              "      background-color: #434B5C;\n",
              "      box-shadow: 0px 1px 3px 1px rgba(0, 0, 0, 0.15);\n",
              "      filter: drop-shadow(0px 1px 2px rgba(0, 0, 0, 0.3));\n",
              "      fill: #FFFFFF;\n",
              "    }\n",
              "  </style>\n",
              "\n",
              "      <script>\n",
              "        const buttonEl =\n",
              "          document.querySelector('#df-99779e51-d84d-49f1-a519-c7b22f30dcfd button.colab-df-convert');\n",
              "        buttonEl.style.display =\n",
              "          google.colab.kernel.accessAllowed ? 'block' : 'none';\n",
              "\n",
              "        async function convertToInteractive(key) {\n",
              "          const element = document.querySelector('#df-99779e51-d84d-49f1-a519-c7b22f30dcfd');\n",
              "          const dataTable =\n",
              "            await google.colab.kernel.invokeFunction('convertToInteractive',\n",
              "                                                     [key], {});\n",
              "          if (!dataTable) return;\n",
              "\n",
              "          const docLinkHtml = 'Like what you see? Visit the ' +\n",
              "            '<a target=\"_blank\" href=https://colab.research.google.com/notebooks/data_table.ipynb>data table notebook</a>'\n",
              "            + ' to learn more about interactive tables.';\n",
              "          element.innerHTML = '';\n",
              "          dataTable['output_type'] = 'display_data';\n",
              "          await google.colab.output.renderOutput(dataTable, element);\n",
              "          const docLink = document.createElement('div');\n",
              "          docLink.innerHTML = docLinkHtml;\n",
              "          element.appendChild(docLink);\n",
              "        }\n",
              "      </script>\n",
              "    </div>\n",
              "  </div>\n",
              "  "
            ]
          },
          "metadata": {},
          "execution_count": 11
        }
      ]
    },
    {
      "cell_type": "code",
      "source": [
        "columns=['reservation_status','hotel','arrival_date_month','reservation_status_date','customer_type','deposit_type','reserved_room_type','assigned_room_type','market_segment','distribution_channel','meal','country']"
      ],
      "metadata": {
        "id": "krHZAPPA_tng"
      },
      "execution_count": null,
      "outputs": []
    },
    {
      "cell_type": "code",
      "source": [
        "df=pd.concat([df,dummies],axis=1)"
      ],
      "metadata": {
        "id": "7kg5Kt5A_th3"
      },
      "execution_count": null,
      "outputs": []
    },
    {
      "cell_type": "code",
      "source": [
        "df"
      ],
      "metadata": {
        "colab": {
          "base_uri": "https://localhost:8080/",
          "height": 661
        },
        "id": "62X_B3oMFCw-",
        "outputId": "866ff2ac-9950-4ff7-e06d-d8602441aa10"
      },
      "execution_count": null,
      "outputs": [
        {
          "output_type": "execute_result",
          "data": {
            "text/plain": [
              "               hotel  is_canceled  lead_time  arrival_date_year  \\\n",
              "0       Resort Hotel            0        342               2015   \n",
              "1       Resort Hotel            0        737               2015   \n",
              "2       Resort Hotel            0          7               2015   \n",
              "3       Resort Hotel            0         13               2015   \n",
              "4       Resort Hotel            0         14               2015   \n",
              "...              ...          ...        ...                ...   \n",
              "119385    City Hotel            0         23               2017   \n",
              "119386    City Hotel            0        102               2017   \n",
              "119387    City Hotel            0         34               2017   \n",
              "119388    City Hotel            0        109               2017   \n",
              "119389    City Hotel            0        205               2017   \n",
              "\n",
              "       arrival_date_month  arrival_date_week_number  \\\n",
              "0                    July                        27   \n",
              "1                    July                        27   \n",
              "2                    July                        27   \n",
              "3                    July                        27   \n",
              "4                    July                        27   \n",
              "...                   ...                       ...   \n",
              "119385             August                        35   \n",
              "119386             August                        35   \n",
              "119387             August                        35   \n",
              "119388             August                        35   \n",
              "119389             August                        35   \n",
              "\n",
              "        arrival_date_day_of_month  stays_in_weekend_nights  \\\n",
              "0                               1                        0   \n",
              "1                               1                        0   \n",
              "2                               1                        0   \n",
              "3                               1                        0   \n",
              "4                               1                        0   \n",
              "...                           ...                      ...   \n",
              "119385                         30                        2   \n",
              "119386                         31                        2   \n",
              "119387                         31                        2   \n",
              "119388                         31                        2   \n",
              "119389                         29                        2   \n",
              "\n",
              "        stays_in_week_nights  adults  ...  country_UMI  country_URY  \\\n",
              "0                          0       2  ...            0            0   \n",
              "1                          0       2  ...            0            0   \n",
              "2                          1       1  ...            0            0   \n",
              "3                          1       1  ...            0            0   \n",
              "4                          2       2  ...            0            0   \n",
              "...                      ...     ...  ...          ...          ...   \n",
              "119385                     5       2  ...            0            0   \n",
              "119386                     5       3  ...            0            0   \n",
              "119387                     5       2  ...            0            0   \n",
              "119388                     5       2  ...            0            0   \n",
              "119389                     7       2  ...            0            0   \n",
              "\n",
              "       country_USA country_UZB country_VEN country_VGB  country_VNM  \\\n",
              "0                0           0           0           0            0   \n",
              "1                0           0           0           0            0   \n",
              "2                0           0           0           0            0   \n",
              "3                0           0           0           0            0   \n",
              "4                0           0           0           0            0   \n",
              "...            ...         ...         ...         ...          ...   \n",
              "119385           0           0           0           0            0   \n",
              "119386           0           0           0           0            0   \n",
              "119387           0           0           0           0            0   \n",
              "119388           0           0           0           0            0   \n",
              "119389           0           0           0           0            0   \n",
              "\n",
              "        country_ZAF  country_ZMB country_ZWE  \n",
              "0                 0            0           0  \n",
              "1                 0            0           0  \n",
              "2                 0            0           0  \n",
              "3                 0            0           0  \n",
              "4                 0            0           0  \n",
              "...             ...          ...         ...  \n",
              "119385            0            0           0  \n",
              "119386            0            0           0  \n",
              "119387            0            0           0  \n",
              "119388            0            0           0  \n",
              "119389            0            0           0  \n",
              "\n",
              "[119390 rows x 1199 columns]"
            ],
            "text/html": [
              "\n",
              "  <div id=\"df-1db8748d-26d9-45fd-98b3-8926ae15e0f4\">\n",
              "    <div class=\"colab-df-container\">\n",
              "      <div>\n",
              "<style scoped>\n",
              "    .dataframe tbody tr th:only-of-type {\n",
              "        vertical-align: middle;\n",
              "    }\n",
              "\n",
              "    .dataframe tbody tr th {\n",
              "        vertical-align: top;\n",
              "    }\n",
              "\n",
              "    .dataframe thead th {\n",
              "        text-align: right;\n",
              "    }\n",
              "</style>\n",
              "<table border=\"1\" class=\"dataframe\">\n",
              "  <thead>\n",
              "    <tr style=\"text-align: right;\">\n",
              "      <th></th>\n",
              "      <th>hotel</th>\n",
              "      <th>is_canceled</th>\n",
              "      <th>lead_time</th>\n",
              "      <th>arrival_date_year</th>\n",
              "      <th>arrival_date_month</th>\n",
              "      <th>arrival_date_week_number</th>\n",
              "      <th>arrival_date_day_of_month</th>\n",
              "      <th>stays_in_weekend_nights</th>\n",
              "      <th>stays_in_week_nights</th>\n",
              "      <th>adults</th>\n",
              "      <th>...</th>\n",
              "      <th>country_UMI</th>\n",
              "      <th>country_URY</th>\n",
              "      <th>country_USA</th>\n",
              "      <th>country_UZB</th>\n",
              "      <th>country_VEN</th>\n",
              "      <th>country_VGB</th>\n",
              "      <th>country_VNM</th>\n",
              "      <th>country_ZAF</th>\n",
              "      <th>country_ZMB</th>\n",
              "      <th>country_ZWE</th>\n",
              "    </tr>\n",
              "  </thead>\n",
              "  <tbody>\n",
              "    <tr>\n",
              "      <th>0</th>\n",
              "      <td>Resort Hotel</td>\n",
              "      <td>0</td>\n",
              "      <td>342</td>\n",
              "      <td>2015</td>\n",
              "      <td>July</td>\n",
              "      <td>27</td>\n",
              "      <td>1</td>\n",
              "      <td>0</td>\n",
              "      <td>0</td>\n",
              "      <td>2</td>\n",
              "      <td>...</td>\n",
              "      <td>0</td>\n",
              "      <td>0</td>\n",
              "      <td>0</td>\n",
              "      <td>0</td>\n",
              "      <td>0</td>\n",
              "      <td>0</td>\n",
              "      <td>0</td>\n",
              "      <td>0</td>\n",
              "      <td>0</td>\n",
              "      <td>0</td>\n",
              "    </tr>\n",
              "    <tr>\n",
              "      <th>1</th>\n",
              "      <td>Resort Hotel</td>\n",
              "      <td>0</td>\n",
              "      <td>737</td>\n",
              "      <td>2015</td>\n",
              "      <td>July</td>\n",
              "      <td>27</td>\n",
              "      <td>1</td>\n",
              "      <td>0</td>\n",
              "      <td>0</td>\n",
              "      <td>2</td>\n",
              "      <td>...</td>\n",
              "      <td>0</td>\n",
              "      <td>0</td>\n",
              "      <td>0</td>\n",
              "      <td>0</td>\n",
              "      <td>0</td>\n",
              "      <td>0</td>\n",
              "      <td>0</td>\n",
              "      <td>0</td>\n",
              "      <td>0</td>\n",
              "      <td>0</td>\n",
              "    </tr>\n",
              "    <tr>\n",
              "      <th>2</th>\n",
              "      <td>Resort Hotel</td>\n",
              "      <td>0</td>\n",
              "      <td>7</td>\n",
              "      <td>2015</td>\n",
              "      <td>July</td>\n",
              "      <td>27</td>\n",
              "      <td>1</td>\n",
              "      <td>0</td>\n",
              "      <td>1</td>\n",
              "      <td>1</td>\n",
              "      <td>...</td>\n",
              "      <td>0</td>\n",
              "      <td>0</td>\n",
              "      <td>0</td>\n",
              "      <td>0</td>\n",
              "      <td>0</td>\n",
              "      <td>0</td>\n",
              "      <td>0</td>\n",
              "      <td>0</td>\n",
              "      <td>0</td>\n",
              "      <td>0</td>\n",
              "    </tr>\n",
              "    <tr>\n",
              "      <th>3</th>\n",
              "      <td>Resort Hotel</td>\n",
              "      <td>0</td>\n",
              "      <td>13</td>\n",
              "      <td>2015</td>\n",
              "      <td>July</td>\n",
              "      <td>27</td>\n",
              "      <td>1</td>\n",
              "      <td>0</td>\n",
              "      <td>1</td>\n",
              "      <td>1</td>\n",
              "      <td>...</td>\n",
              "      <td>0</td>\n",
              "      <td>0</td>\n",
              "      <td>0</td>\n",
              "      <td>0</td>\n",
              "      <td>0</td>\n",
              "      <td>0</td>\n",
              "      <td>0</td>\n",
              "      <td>0</td>\n",
              "      <td>0</td>\n",
              "      <td>0</td>\n",
              "    </tr>\n",
              "    <tr>\n",
              "      <th>4</th>\n",
              "      <td>Resort Hotel</td>\n",
              "      <td>0</td>\n",
              "      <td>14</td>\n",
              "      <td>2015</td>\n",
              "      <td>July</td>\n",
              "      <td>27</td>\n",
              "      <td>1</td>\n",
              "      <td>0</td>\n",
              "      <td>2</td>\n",
              "      <td>2</td>\n",
              "      <td>...</td>\n",
              "      <td>0</td>\n",
              "      <td>0</td>\n",
              "      <td>0</td>\n",
              "      <td>0</td>\n",
              "      <td>0</td>\n",
              "      <td>0</td>\n",
              "      <td>0</td>\n",
              "      <td>0</td>\n",
              "      <td>0</td>\n",
              "      <td>0</td>\n",
              "    </tr>\n",
              "    <tr>\n",
              "      <th>...</th>\n",
              "      <td>...</td>\n",
              "      <td>...</td>\n",
              "      <td>...</td>\n",
              "      <td>...</td>\n",
              "      <td>...</td>\n",
              "      <td>...</td>\n",
              "      <td>...</td>\n",
              "      <td>...</td>\n",
              "      <td>...</td>\n",
              "      <td>...</td>\n",
              "      <td>...</td>\n",
              "      <td>...</td>\n",
              "      <td>...</td>\n",
              "      <td>...</td>\n",
              "      <td>...</td>\n",
              "      <td>...</td>\n",
              "      <td>...</td>\n",
              "      <td>...</td>\n",
              "      <td>...</td>\n",
              "      <td>...</td>\n",
              "      <td>...</td>\n",
              "    </tr>\n",
              "    <tr>\n",
              "      <th>119385</th>\n",
              "      <td>City Hotel</td>\n",
              "      <td>0</td>\n",
              "      <td>23</td>\n",
              "      <td>2017</td>\n",
              "      <td>August</td>\n",
              "      <td>35</td>\n",
              "      <td>30</td>\n",
              "      <td>2</td>\n",
              "      <td>5</td>\n",
              "      <td>2</td>\n",
              "      <td>...</td>\n",
              "      <td>0</td>\n",
              "      <td>0</td>\n",
              "      <td>0</td>\n",
              "      <td>0</td>\n",
              "      <td>0</td>\n",
              "      <td>0</td>\n",
              "      <td>0</td>\n",
              "      <td>0</td>\n",
              "      <td>0</td>\n",
              "      <td>0</td>\n",
              "    </tr>\n",
              "    <tr>\n",
              "      <th>119386</th>\n",
              "      <td>City Hotel</td>\n",
              "      <td>0</td>\n",
              "      <td>102</td>\n",
              "      <td>2017</td>\n",
              "      <td>August</td>\n",
              "      <td>35</td>\n",
              "      <td>31</td>\n",
              "      <td>2</td>\n",
              "      <td>5</td>\n",
              "      <td>3</td>\n",
              "      <td>...</td>\n",
              "      <td>0</td>\n",
              "      <td>0</td>\n",
              "      <td>0</td>\n",
              "      <td>0</td>\n",
              "      <td>0</td>\n",
              "      <td>0</td>\n",
              "      <td>0</td>\n",
              "      <td>0</td>\n",
              "      <td>0</td>\n",
              "      <td>0</td>\n",
              "    </tr>\n",
              "    <tr>\n",
              "      <th>119387</th>\n",
              "      <td>City Hotel</td>\n",
              "      <td>0</td>\n",
              "      <td>34</td>\n",
              "      <td>2017</td>\n",
              "      <td>August</td>\n",
              "      <td>35</td>\n",
              "      <td>31</td>\n",
              "      <td>2</td>\n",
              "      <td>5</td>\n",
              "      <td>2</td>\n",
              "      <td>...</td>\n",
              "      <td>0</td>\n",
              "      <td>0</td>\n",
              "      <td>0</td>\n",
              "      <td>0</td>\n",
              "      <td>0</td>\n",
              "      <td>0</td>\n",
              "      <td>0</td>\n",
              "      <td>0</td>\n",
              "      <td>0</td>\n",
              "      <td>0</td>\n",
              "    </tr>\n",
              "    <tr>\n",
              "      <th>119388</th>\n",
              "      <td>City Hotel</td>\n",
              "      <td>0</td>\n",
              "      <td>109</td>\n",
              "      <td>2017</td>\n",
              "      <td>August</td>\n",
              "      <td>35</td>\n",
              "      <td>31</td>\n",
              "      <td>2</td>\n",
              "      <td>5</td>\n",
              "      <td>2</td>\n",
              "      <td>...</td>\n",
              "      <td>0</td>\n",
              "      <td>0</td>\n",
              "      <td>0</td>\n",
              "      <td>0</td>\n",
              "      <td>0</td>\n",
              "      <td>0</td>\n",
              "      <td>0</td>\n",
              "      <td>0</td>\n",
              "      <td>0</td>\n",
              "      <td>0</td>\n",
              "    </tr>\n",
              "    <tr>\n",
              "      <th>119389</th>\n",
              "      <td>City Hotel</td>\n",
              "      <td>0</td>\n",
              "      <td>205</td>\n",
              "      <td>2017</td>\n",
              "      <td>August</td>\n",
              "      <td>35</td>\n",
              "      <td>29</td>\n",
              "      <td>2</td>\n",
              "      <td>7</td>\n",
              "      <td>2</td>\n",
              "      <td>...</td>\n",
              "      <td>0</td>\n",
              "      <td>0</td>\n",
              "      <td>0</td>\n",
              "      <td>0</td>\n",
              "      <td>0</td>\n",
              "      <td>0</td>\n",
              "      <td>0</td>\n",
              "      <td>0</td>\n",
              "      <td>0</td>\n",
              "      <td>0</td>\n",
              "    </tr>\n",
              "  </tbody>\n",
              "</table>\n",
              "<p>119390 rows × 1199 columns</p>\n",
              "</div>\n",
              "      <button class=\"colab-df-convert\" onclick=\"convertToInteractive('df-1db8748d-26d9-45fd-98b3-8926ae15e0f4')\"\n",
              "              title=\"Convert this dataframe to an interactive table.\"\n",
              "              style=\"display:none;\">\n",
              "        \n",
              "  <svg xmlns=\"http://www.w3.org/2000/svg\" height=\"24px\"viewBox=\"0 0 24 24\"\n",
              "       width=\"24px\">\n",
              "    <path d=\"M0 0h24v24H0V0z\" fill=\"none\"/>\n",
              "    <path d=\"M18.56 5.44l.94 2.06.94-2.06 2.06-.94-2.06-.94-.94-2.06-.94 2.06-2.06.94zm-11 1L8.5 8.5l.94-2.06 2.06-.94-2.06-.94L8.5 2.5l-.94 2.06-2.06.94zm10 10l.94 2.06.94-2.06 2.06-.94-2.06-.94-.94-2.06-.94 2.06-2.06.94z\"/><path d=\"M17.41 7.96l-1.37-1.37c-.4-.4-.92-.59-1.43-.59-.52 0-1.04.2-1.43.59L10.3 9.45l-7.72 7.72c-.78.78-.78 2.05 0 2.83L4 21.41c.39.39.9.59 1.41.59.51 0 1.02-.2 1.41-.59l7.78-7.78 2.81-2.81c.8-.78.8-2.07 0-2.86zM5.41 20L4 18.59l7.72-7.72 1.47 1.35L5.41 20z\"/>\n",
              "  </svg>\n",
              "      </button>\n",
              "      \n",
              "  <style>\n",
              "    .colab-df-container {\n",
              "      display:flex;\n",
              "      flex-wrap:wrap;\n",
              "      gap: 12px;\n",
              "    }\n",
              "\n",
              "    .colab-df-convert {\n",
              "      background-color: #E8F0FE;\n",
              "      border: none;\n",
              "      border-radius: 50%;\n",
              "      cursor: pointer;\n",
              "      display: none;\n",
              "      fill: #1967D2;\n",
              "      height: 32px;\n",
              "      padding: 0 0 0 0;\n",
              "      width: 32px;\n",
              "    }\n",
              "\n",
              "    .colab-df-convert:hover {\n",
              "      background-color: #E2EBFA;\n",
              "      box-shadow: 0px 1px 2px rgba(60, 64, 67, 0.3), 0px 1px 3px 1px rgba(60, 64, 67, 0.15);\n",
              "      fill: #174EA6;\n",
              "    }\n",
              "\n",
              "    [theme=dark] .colab-df-convert {\n",
              "      background-color: #3B4455;\n",
              "      fill: #D2E3FC;\n",
              "    }\n",
              "\n",
              "    [theme=dark] .colab-df-convert:hover {\n",
              "      background-color: #434B5C;\n",
              "      box-shadow: 0px 1px 3px 1px rgba(0, 0, 0, 0.15);\n",
              "      filter: drop-shadow(0px 1px 2px rgba(0, 0, 0, 0.3));\n",
              "      fill: #FFFFFF;\n",
              "    }\n",
              "  </style>\n",
              "\n",
              "      <script>\n",
              "        const buttonEl =\n",
              "          document.querySelector('#df-1db8748d-26d9-45fd-98b3-8926ae15e0f4 button.colab-df-convert');\n",
              "        buttonEl.style.display =\n",
              "          google.colab.kernel.accessAllowed ? 'block' : 'none';\n",
              "\n",
              "        async function convertToInteractive(key) {\n",
              "          const element = document.querySelector('#df-1db8748d-26d9-45fd-98b3-8926ae15e0f4');\n",
              "          const dataTable =\n",
              "            await google.colab.kernel.invokeFunction('convertToInteractive',\n",
              "                                                     [key], {});\n",
              "          if (!dataTable) return;\n",
              "\n",
              "          const docLinkHtml = 'Like what you see? Visit the ' +\n",
              "            '<a target=\"_blank\" href=https://colab.research.google.com/notebooks/data_table.ipynb>data table notebook</a>'\n",
              "            + ' to learn more about interactive tables.';\n",
              "          element.innerHTML = '';\n",
              "          dataTable['output_type'] = 'display_data';\n",
              "          await google.colab.output.renderOutput(dataTable, element);\n",
              "          const docLink = document.createElement('div');\n",
              "          docLink.innerHTML = docLinkHtml;\n",
              "          element.appendChild(docLink);\n",
              "        }\n",
              "      </script>\n",
              "    </div>\n",
              "  </div>\n",
              "  "
            ]
          },
          "metadata": {},
          "execution_count": 10
        }
      ]
    },
    {
      "cell_type": "code",
      "source": [
        "df.info"
      ],
      "metadata": {
        "colab": {
          "base_uri": "https://localhost:8080/"
        },
        "id": "aksb9gbSFCuN",
        "outputId": "e1be367e-338c-4235-aeaf-bd0ac2fe3ad9"
      },
      "execution_count": null,
      "outputs": [
        {
          "output_type": "execute_result",
          "data": {
            "text/plain": [
              "<bound method DataFrame.info of                hotel  is_canceled  lead_time  arrival_date_year  \\\n",
              "0       Resort Hotel            0        342               2015   \n",
              "1       Resort Hotel            0        737               2015   \n",
              "2       Resort Hotel            0          7               2015   \n",
              "3       Resort Hotel            0         13               2015   \n",
              "4       Resort Hotel            0         14               2015   \n",
              "...              ...          ...        ...                ...   \n",
              "119385    City Hotel            0         23               2017   \n",
              "119386    City Hotel            0        102               2017   \n",
              "119387    City Hotel            0         34               2017   \n",
              "119388    City Hotel            0        109               2017   \n",
              "119389    City Hotel            0        205               2017   \n",
              "\n",
              "       arrival_date_month  arrival_date_week_number  \\\n",
              "0                    July                        27   \n",
              "1                    July                        27   \n",
              "2                    July                        27   \n",
              "3                    July                        27   \n",
              "4                    July                        27   \n",
              "...                   ...                       ...   \n",
              "119385             August                        35   \n",
              "119386             August                        35   \n",
              "119387             August                        35   \n",
              "119388             August                        35   \n",
              "119389             August                        35   \n",
              "\n",
              "        arrival_date_day_of_month  stays_in_weekend_nights  \\\n",
              "0                               1                        0   \n",
              "1                               1                        0   \n",
              "2                               1                        0   \n",
              "3                               1                        0   \n",
              "4                               1                        0   \n",
              "...                           ...                      ...   \n",
              "119385                         30                        2   \n",
              "119386                         31                        2   \n",
              "119387                         31                        2   \n",
              "119388                         31                        2   \n",
              "119389                         29                        2   \n",
              "\n",
              "        stays_in_week_nights  adults  ...  deposit_type  agent company  \\\n",
              "0                          0       2  ...    No Deposit    NaN     NaN   \n",
              "1                          0       2  ...    No Deposit    NaN     NaN   \n",
              "2                          1       1  ...    No Deposit    NaN     NaN   \n",
              "3                          1       1  ...    No Deposit  304.0     NaN   \n",
              "4                          2       2  ...    No Deposit  240.0     NaN   \n",
              "...                      ...     ...  ...           ...    ...     ...   \n",
              "119385                     5       2  ...    No Deposit  394.0     NaN   \n",
              "119386                     5       3  ...    No Deposit    9.0     NaN   \n",
              "119387                     5       2  ...    No Deposit    9.0     NaN   \n",
              "119388                     5       2  ...    No Deposit   89.0     NaN   \n",
              "119389                     7       2  ...    No Deposit    9.0     NaN   \n",
              "\n",
              "       days_in_waiting_list customer_type     adr  \\\n",
              "0                         0     Transient    0.00   \n",
              "1                         0     Transient    0.00   \n",
              "2                         0     Transient   75.00   \n",
              "3                         0     Transient   75.00   \n",
              "4                         0     Transient   98.00   \n",
              "...                     ...           ...     ...   \n",
              "119385                    0     Transient   96.14   \n",
              "119386                    0     Transient  225.43   \n",
              "119387                    0     Transient  157.71   \n",
              "119388                    0     Transient  104.40   \n",
              "119389                    0     Transient  151.20   \n",
              "\n",
              "        required_car_parking_spaces  total_of_special_requests  \\\n",
              "0                                 0                          0   \n",
              "1                                 0                          0   \n",
              "2                                 0                          0   \n",
              "3                                 0                          0   \n",
              "4                                 0                          1   \n",
              "...                             ...                        ...   \n",
              "119385                            0                          0   \n",
              "119386                            0                          2   \n",
              "119387                            0                          4   \n",
              "119388                            0                          0   \n",
              "119389                            0                          2   \n",
              "\n",
              "        reservation_status reservation_status_date  \n",
              "0                Check-Out              07-01-2015  \n",
              "1                Check-Out              07-01-2015  \n",
              "2                Check-Out              07-02-2015  \n",
              "3                Check-Out              07-02-2015  \n",
              "4                Check-Out              07-03-2015  \n",
              "...                    ...                     ...  \n",
              "119385           Check-Out              09-06-2017  \n",
              "119386           Check-Out              09-07-2017  \n",
              "119387           Check-Out              09-07-2017  \n",
              "119388           Check-Out              09-07-2017  \n",
              "119389           Check-Out              09-07-2017  \n",
              "\n",
              "[119390 rows x 32 columns]>"
            ]
          },
          "metadata": {},
          "execution_count": 81
        }
      ]
    },
    {
      "cell_type": "code",
      "source": [
        "df.dtypes"
      ],
      "metadata": {
        "colab": {
          "base_uri": "https://localhost:8080/"
        },
        "id": "fC9QBXrDFCrk",
        "outputId": "274d000e-ddf6-4fe9-f26f-66cf786c683d"
      },
      "execution_count": null,
      "outputs": [
        {
          "output_type": "execute_result",
          "data": {
            "text/plain": [
              "hotel                              object\n",
              "is_canceled                         int64\n",
              "lead_time                           int64\n",
              "arrival_date_year                   int64\n",
              "arrival_date_month                 object\n",
              "arrival_date_week_number            int64\n",
              "arrival_date_day_of_month           int64\n",
              "stays_in_weekend_nights             int64\n",
              "stays_in_week_nights                int64\n",
              "adults                              int64\n",
              "children                          float64\n",
              "babies                              int64\n",
              "meal                               object\n",
              "country                            object\n",
              "market_segment                     object\n",
              "distribution_channel               object\n",
              "is_repeated_guest                   int64\n",
              "previous_cancellations              int64\n",
              "previous_bookings_not_canceled      int64\n",
              "reserved_room_type                 object\n",
              "assigned_room_type                 object\n",
              "booking_changes                     int64\n",
              "deposit_type                       object\n",
              "agent                             float64\n",
              "company                           float64\n",
              "days_in_waiting_list                int64\n",
              "customer_type                      object\n",
              "adr                               float64\n",
              "required_car_parking_spaces         int64\n",
              "total_of_special_requests           int64\n",
              "reservation_status                 object\n",
              "reservation_status_date            object\n",
              "dtype: object"
            ]
          },
          "metadata": {},
          "execution_count": 82
        }
      ]
    },
    {
      "cell_type": "code",
      "source": [
        "df=df.drop(columns, axis=1,inplace=True)"
      ],
      "metadata": {
        "id": "kP6dh5aCFCo2"
      },
      "execution_count": null,
      "outputs": []
    },
    {
      "cell_type": "code",
      "source": [],
      "metadata": {
        "id": "DqPy36qbFCdM"
      },
      "execution_count": null,
      "outputs": []
    }
  ]
}